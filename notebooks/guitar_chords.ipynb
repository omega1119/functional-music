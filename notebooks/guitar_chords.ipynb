{
 "cells": [
  {
   "cell_type": "code",
   "execution_count": 5,
   "id": "3c183d82",
   "metadata": {},
   "outputs": [
    {
     "name": "stdout",
     "output_type": "stream",
     "text": [
      "C Ionian scale notes: ['C4', 'D4', 'E4', 'F4', 'G4', 'A4', 'B4']\n",
      "\n",
      "Diatonic chords in C Ionian mode:\n",
      "1: ('major triad', ['C4', 'E4', 'G4'])\n",
      "2: ('minor triad', ['D4', 'F4', 'A4'])\n",
      "3: ('minor triad', ['E4', 'G4', 'B4'])\n",
      "4: ('major triad', ['F4', 'A4', 'C4'])\n",
      "5: ('major triad', ['G4', 'B4', 'D4'])\n",
      "6: ('minor triad', ['A4', 'C4', 'E4'])\n",
      "7: ('diminished triad', ['B4', 'D4', 'F4'])\n"
     ]
    }
   ],
   "source": [
    "# === Setup path ===\n",
    "import sys\n",
    "import os\n",
    "sys.path.append(os.path.abspath(\"..\"))  # so we can import from app/\n",
    "\n",
    "# === Music Theory Functions ===\n",
    "from app.utils.music_theory import get_scale_notes, get_diatonic_chords\n",
    "\n",
    "# === Choose key and mode ===\n",
    "root_note = \"C\"\n",
    "mode = \"ionian\"\n",
    "\n",
    "scale_notes = get_scale_notes(root_note, mode)\n",
    "print(f\"{root_note} {mode.capitalize()} scale notes: {scale_notes}\")\n",
    "\n",
    "chords = get_diatonic_chords(scale_notes)\n",
    "print(f\"\\nDiatonic chords in {root_note} {mode.capitalize()} mode:\")\n",
    "for idx, chord in enumerate(chords):\n",
    "    print(f\"{idx+1}: {chord}\")"
   ]
  },
  {
   "cell_type": "code",
   "execution_count": 6,
   "id": "6c431369",
   "metadata": {},
   "outputs": [],
   "source": [
    "import matplotlib.pyplot as plt\n",
    "\n",
    "def plot_guitar_chord(name, frets):\n",
    "    fig, ax = plt.subplots(figsize=(2, 4))\n",
    "    ax.set_title(name, fontsize=14)\n",
    "    \n",
    "    # Draw frets and strings\n",
    "    for i in range(6):\n",
    "        ax.plot([i, i], [0, 4], 'k', linewidth=1)  # strings\n",
    "    for fret in range(5):\n",
    "        ax.plot([0, 5], [fret, fret], 'k', linewidth=1)  # frets\n",
    "\n",
    "    # Draw nut or first fret marker\n",
    "    if min(f for f in frets if f >= 0) == 0:\n",
    "        ax.plot([0, 5], [0, 0], 'k', linewidth=4)\n",
    "\n",
    "    # Plot finger positions\n",
    "    for i, f in enumerate(frets):\n",
    "        if f == -1:\n",
    "            ax.text(i, -0.5, \"X\", ha='center', va='center', fontsize=12)\n",
    "        elif f == 0:\n",
    "            ax.text(i, -0.5, \"O\", ha='center', va='center', fontsize=12)\n",
    "        else:\n",
    "            ax.plot(i, f - 0.5, 'o', color='black', markersize=10)\n",
    "\n",
    "    ax.set_xlim(-0.5, 5.5)\n",
    "    ax.set_ylim(-1, 4.5)\n",
    "    ax.axis('off')\n",
    "    plt.show()"
   ]
  },
  {
   "cell_type": "code",
   "execution_count": 8,
   "id": "1affb0bb",
   "metadata": {},
   "outputs": [
    {
     "name": "stdout",
     "output_type": "stream",
     "text": [
      "⚠️ No shape defined for: C4 (major triad: ['C4', 'E4', 'G4'])\n",
      "⚠️ No shape defined for: D4m (minor triad: ['D4', 'F4', 'A4'])\n",
      "⚠️ No shape defined for: E4m (minor triad: ['E4', 'G4', 'B4'])\n",
      "⚠️ No shape defined for: F4 (major triad: ['F4', 'A4', 'C4'])\n",
      "⚠️ No shape defined for: G4 (major triad: ['G4', 'B4', 'D4'])\n",
      "⚠️ No shape defined for: A4m (minor triad: ['A4', 'C4', 'E4'])\n",
      "⚠️ No shape defined for: B4dim (diminished triad: ['B4', 'D4', 'F4'])\n"
     ]
    }
   ],
   "source": [
    "# Format: [string 6 → 1], where -1 means muted, 0 means open, >0 = fret\n",
    "# === Chord shape definitions for common open chords ===\n",
    "chord_shapes = {\n",
    "    \"C\":     [-1, 3, 2, 0, 1, 0],\n",
    "    \"Cm\":    [-1, 3, 1, 0, 1, 3],\n",
    "    \"D\":     [-1, -1, 0, 2, 3, 2],\n",
    "    \"Dm\":    [-1, -1, 0, 2, 3, 1],\n",
    "    \"E\":     [0, 2, 2, 1, 0, 0],\n",
    "    \"Em\":    [0, 2, 2, 0, 0, 0],\n",
    "    \"F\":     [1, 3, 3, 2, 1, 1],\n",
    "    \"Fm\":    [1, 3, 3, 1, 1, 1],\n",
    "    \"G\":     [3, 2, 0, 0, 0, 3],\n",
    "    \"Gm\":    [3, 5, 5, 3, 3, 3],\n",
    "    \"A\":     [-1, 0, 2, 2, 2, 0],\n",
    "    \"Am\":    [-1, 0, 2, 2, 1, 0],\n",
    "    \"Bdim\":  [-1, 2, 3, 1, 3, -1],  # Simplified shape\n",
    "    # Add more as needed...\n",
    "}\n",
    "\n",
    "def get_chord_label(name, notes):\n",
    "    root = notes[0]\n",
    "    if \"minor\" in name.lower():\n",
    "        return root + \"m\"\n",
    "    elif \"diminished\" in name.lower():\n",
    "        return root + \"dim\"\n",
    "    else:\n",
    "        return root\n",
    "\n",
    "# Visualise each diatonic chord with a fretboard diagram if shape is known\n",
    "for name, notes in chords:\n",
    "    label = get_chord_label(name, notes)\n",
    "    shape = chord_shapes.get(label)\n",
    "    if shape:\n",
    "        plot_guitar_chord(label, shape)\n",
    "    else:\n",
    "        print(f\"⚠️ No shape defined for: {label} ({name}: {notes})\")"
   ]
  }
 ],
 "metadata": {
  "kernelspec": {
   "display_name": "functional_music",
   "language": "python",
   "name": "python3"
  },
  "language_info": {
   "codemirror_mode": {
    "name": "ipython",
    "version": 3
   },
   "file_extension": ".py",
   "mimetype": "text/x-python",
   "name": "python",
   "nbconvert_exporter": "python",
   "pygments_lexer": "ipython3",
   "version": "3.11.11"
  }
 },
 "nbformat": 4,
 "nbformat_minor": 5
}
